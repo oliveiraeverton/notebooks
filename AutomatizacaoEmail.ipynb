{
  "cells": [
    {
      "cell_type": "markdown",
      "metadata": {
        "id": "view-in-github",
        "colab_type": "text"
      },
      "source": [
        "<a href=\"https://colab.research.google.com/github/oliveiraeverton/notebooks/blob/main/AutomatizacaoEmail.ipynb\" target=\"_parent\"><img src=\"https://colab.research.google.com/assets/colab-badge.svg\" alt=\"Open In Colab\"/></a>"
      ]
    },
    {
      "cell_type": "markdown",
      "id": "cb109b2a",
      "metadata": {
        "id": "cb109b2a"
      },
      "source": [
        "## Conectar o pandas para abrir o arquivo csv"
      ]
    },
    {
      "cell_type": "code",
      "execution_count": null,
      "id": "d7aed904",
      "metadata": {
        "id": "d7aed904"
      },
      "outputs": [],
      "source": [
        "import pandas as pd\n",
        "\n",
        "arquivo = pd.read_csv(\"relatorio_geral.csv\")"
      ]
    },
    {
      "cell_type": "markdown",
      "id": "d1abbc92",
      "metadata": {
        "id": "d1abbc92"
      },
      "source": [
        "## Limpar os dados: Deixar somente aquelas célular que possuem o valor de categoria = Comunidade externa a UFMS\n",
        "\n",
        "## Únicas colunas que deverão ser usadas são: Nome Completo / CPF / E-mail / Categoria"
      ]
    },
    {
      "cell_type": "code",
      "execution_count": null,
      "id": "6e2e4d8d",
      "metadata": {
        "id": "6e2e4d8d"
      },
      "outputs": [],
      "source": [
        "# Retirando do dataframe todos aqueles que são alunos ou servidores da UFMS\n",
        "arquivo = arquivo[arquivo['Categoria'] == \"Comunidade externa a UFMS\"]"
      ]
    },
    {
      "cell_type": "code",
      "execution_count": null,
      "id": "ed10aff5",
      "metadata": {
        "id": "ed10aff5"
      },
      "outputs": [],
      "source": [
        "# Reseta o index para percorrer o for coerentemente\n",
        "arquivo = arquivo.reset_index()"
      ]
    },
    {
      "cell_type": "code",
      "execution_count": null,
      "id": "0682c582",
      "metadata": {
        "id": "0682c582"
      },
      "outputs": [],
      "source": [
        "# Testa o for se todos os dados estão coerentes\n",
        "for i in range(0, len(arquivo), 1):\n",
        "    if(arquivo['GRU GERADA'][i] == 'Sim' and arquivo['E-MAIL'][i] == 'Não'):\n",
        "        print(\">>\", arquivo['Nome Completo'][i].upper(), arquivo['CPF'][i], arquivo['E-mail (Digite um e-mail)'][i])"
      ]
    },
    {
      "cell_type": "code",
      "execution_count": null,
      "id": "44e44c2b",
      "metadata": {
        "id": "44e44c2b"
      },
      "outputs": [],
      "source": [
        "# imprime o arquivo\n",
        "arquivo"
      ]
    },
    {
      "cell_type": "code",
      "execution_count": null,
      "id": "c2711430",
      "metadata": {
        "id": "c2711430"
      },
      "outputs": [],
      "source": [
        "import smtplib\n",
        "from email.mime.multipart import MIMEMultipart\n",
        "from email.mime.text import MIMEText\n",
        "from email.mime.application import MIMEApplication\n",
        "def send_mail(nome : str, file_path : str, recipient_email):\n",
        "    # Concatena a palavra pdf para recuperar o arquivo\n",
        "    file_path += \".pdf\"\n",
        "    # Configurações do servidor SMTP e informações do remetente\n",
        "    smtp_server = 'smtp.gmail.com'\n",
        "    smtp_port = 587\n",
        "    smtp_username = 'email@email'\n",
        "    smtp_password = 'senha'\n",
        "    sender_email = 'email@email'\n",
        "\n",
        "\n",
        "    # Criar a mensagem de e-mail\n",
        "    cc_email = 'email'  # Campo \"Cc\"\n",
        "    message = MIMEMultipart()\n",
        "    message['From'] = ', '.join([sender_email, cc_email])\n",
        "    message['To'] = recipient_email\n",
        "    message['Subject'] = 'GRU Gerada para a Volta UFMS 7 km Veterano'\n",
        "\n",
        "    # Adicionar o corpo do e-mail\n",
        "    body = f\"\"\"\n",
        "    <p>Prezado(a) <b>{nome}</b>,</p>\n",
        "\n",
        "<p>Esperamos que esteja bem. Gostaríamos de lembrar a importância do pagamento da Guia de Recolhimento Único (GRU) referente à sua inscrição na corrida de 7 km UFMS Veterano.\n",
        "O prazo para o pagamento está se aproximando e queremos garantir que sua vaga seja mantida.</p>\n",
        "\n",
        "<p>\n",
        "Data de Vencimento: <b>08/09/2023</b><br>\n",
        "Valor Total: <b>R$ 100,00</b>\n",
        "</p>\n",
        "<p><b>Favor sinalizar o recebimento do e-mail e do GRU.</b></p>\n",
        "<p>A sua participação na corrida é muito aguardada e temos certeza de que será uma experiência gratificante.\n",
        "No entanto, é fundamental que o pagamento da GRU seja efetuado dentro do prazo estabelecido, a fim de garantir sua vaga na corrida.</p>\n",
        "\n",
        "<p>Entendemos que imprevistos podem acontecer, e caso desista da vaga nos avise com a maior brevidade possível.</p>\n",
        "<p>\n",
        "Att,<br>\n",
        "<b>Everton de Oliveira<br>\n",
        "<br>\n",
        "SEPES/DICE/PROECE<br>\n",
        "Universidade Federal de Mato Grosso do Sul (UFMS)</b><br>\n",
        "</p>\n",
        "    \"\"\"\n",
        "    message.attach(MIMEText(body, 'html'))\n",
        "\n",
        "    # Anexar um arquivo ao e-mail\n",
        "    with open(file_path, 'rb') as pdf_attachment:\n",
        "        pdf_part = MIMEApplication(pdf_attachment.read(), Name=file_path)\n",
        "        pdf_part['Content-Disposition'] = f'attachment; filename=\"{file_path}\"'\n",
        "        pdf_part['Content-Type'] = 'application/pdf'\n",
        "        message.attach(pdf_part)\n",
        "\n",
        "    # Conectar e enviar o e-mail\n",
        "    with smtplib.SMTP(smtp_server, smtp_port) as server:\n",
        "        server.starttls()\n",
        "        server.login(smtp_username, smtp_password)\n",
        "        server.sendmail(sender_email, recipient_email, message.as_string())\n",
        "\n",
        "    print('E-mail enviado com sucesso!')\n"
      ]
    },
    {
      "cell_type": "code",
      "execution_count": null,
      "id": "5a27af37",
      "metadata": {
        "id": "5a27af37"
      },
      "outputs": [],
      "source": [
        "#teste\n",
        "send_mail(arquivo['Nome Completo'][2], arquivo['Nome Completo'][2],\n",
        "          '1112everton@gmail.com')"
      ]
    },
    {
      "cell_type": "code",
      "execution_count": null,
      "id": "69d8738f",
      "metadata": {
        "id": "69d8738f"
      },
      "outputs": [],
      "source": [
        "for i in range(0, len(arquivo), 1):\n",
        "    if(arquivo['PAGO'][i] == 'Não' and arquivo['E-MAIL'][i] == 'Não' and arquivo['GRU GERADA'][i] == 'Sim'):\n",
        "        send_mail(arquivo['Nome Completo'][i].upper(), arquivo['Nome Completo'][i], arquivo['E-mail (Digite um e-mail)'][i])\n",
        "        print(\">>\", arquivo['Nome Completo'][i].upper(), arquivo['CPF'][i], arquivo['E-mail (Digite um e-mail)'][i])"
      ]
    },
    {
      "cell_type": "code",
      "execution_count": null,
      "id": "e044cbd2",
      "metadata": {
        "id": "e044cbd2"
      },
      "outputs": [],
      "source": []
    }
  ],
  "metadata": {
    "kernelspec": {
      "display_name": "Python 3 (ipykernel)",
      "language": "python",
      "name": "python3"
    },
    "language_info": {
      "codemirror_mode": {
        "name": "ipython",
        "version": 3
      },
      "file_extension": ".py",
      "mimetype": "text/x-python",
      "name": "python",
      "nbconvert_exporter": "python",
      "pygments_lexer": "ipython3",
      "version": "3.11.5"
    },
    "colab": {
      "provenance": [],
      "include_colab_link": true
    }
  },
  "nbformat": 4,
  "nbformat_minor": 5
}