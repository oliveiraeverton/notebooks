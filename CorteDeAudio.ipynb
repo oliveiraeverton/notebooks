{
  "nbformat": 4,
  "nbformat_minor": 0,
  "metadata": {
    "colab": {
      "provenance": [],
      "authorship_tag": "ABX9TyOT2UQC626L6fDcIomCzAfd",
      "include_colab_link": true
    },
    "kernelspec": {
      "name": "python3",
      "display_name": "Python 3"
    },
    "language_info": {
      "name": "python"
    }
  },
  "cells": [
    {
      "cell_type": "markdown",
      "metadata": {
        "id": "view-in-github",
        "colab_type": "text"
      },
      "source": [
        "<a href=\"https://colab.research.google.com/github/oliveiraeverton/notebooks/blob/main/CorteDeAudio.ipynb\" target=\"_parent\"><img src=\"https://colab.research.google.com/assets/colab-badge.svg\" alt=\"Open In Colab\"/></a>"
      ]
    },
    {
      "cell_type": "code",
      "source": [
        "!pip install pydub\n"
      ],
      "metadata": {
        "colab": {
          "base_uri": "https://localhost:8080/"
        },
        "id": "UXkLLHYLywXR",
        "outputId": "8a52069d-1272-41d7-cf3b-406332b6eb8e"
      },
      "execution_count": 2,
      "outputs": [
        {
          "output_type": "stream",
          "name": "stdout",
          "text": [
            "Collecting pydub\n",
            "  Downloading pydub-0.25.1-py2.py3-none-any.whl (32 kB)\n",
            "Installing collected packages: pydub\n",
            "Successfully installed pydub-0.25.1\n"
          ]
        }
      ]
    },
    {
      "cell_type": "code",
      "execution_count": 3,
      "metadata": {
        "id": "hzo9LkECyv4N"
      },
      "outputs": [],
      "source": [
        "from pydub import AudioSegment"
      ]
    },
    {
      "cell_type": "code",
      "source": [
        "name_arq = input(\"Digite o nome do arquivo para o corte: \")\n",
        "audio = AudioSegment.from_file(name_arq, format=\"mp3\")\n"
      ],
      "metadata": {
        "id": "ArsV9H_Gy-fd"
      },
      "execution_count": 4,
      "outputs": []
    },
    {
      "cell_type": "code",
      "source": [
        "# Obtenha a duração em segundos\n",
        "duracao_em_segundos = len(audio) / 1000.0  # Converta para segundos\n",
        "duracao_em_segundos"
      ],
      "metadata": {
        "colab": {
          "base_uri": "https://localhost:8080/"
        },
        "id": "mg6dPdntzDMb",
        "outputId": "eca08930-9a9a-475f-eb93-e31d9218ee12"
      },
      "execution_count": 5,
      "outputs": [
        {
          "output_type": "execute_result",
          "data": {
            "text/plain": [
              "53.219"
            ]
          },
          "metadata": {},
          "execution_count": 5
        }
      ]
    },
    {
      "cell_type": "code",
      "source": [
        "time_start = 0\n",
        "time_end = 0\n",
        "\n",
        "corte = 1\n",
        "\n",
        "while(time_end <= duracao_em_segundos*1000):\n",
        "  time_start = int(input(\"Tempo inicial para o corte: \"))\n",
        "  time_end = int(input(\"Tempo Final para o corte: \"))\n",
        "\n",
        "  #nome do arquivo\n",
        "  nome_arquivo = \"lost04_{}\".format(corte)\n",
        "  corte += 1\n",
        "\n",
        "  #recorte do áudio\n",
        "  cut_audio = audio[time_start:time_end]\n",
        "\n",
        "  #exportar o áudio cortado para um novo arquivo\n",
        "  cut_audio.export(nome_arquivo, format=\"mp3\")\n",
        "  print(\"Corte no intervalo {}:{}\".format(time_start, time_end))\n",
        "  print(\"Tempo total {}\".format(duracao_em_segundos))\n",
        "  print()\n",
        "\n",
        "\n",
        "\n",
        "\n",
        "\n"
      ],
      "metadata": {
        "colab": {
          "base_uri": "https://localhost:8080/"
        },
        "id": "lf3tcAWwzYQ5",
        "outputId": "f99f1a68-df0d-4972-84cb-255faa794ea1"
      },
      "execution_count": 16,
      "outputs": [
        {
          "output_type": "stream",
          "name": "stdout",
          "text": [
            "Tempo inicial para o corte: 0\n",
            "Tempo Final para o corte: 6000\n",
            "Corte no intervalo 0:6000\n",
            "Tempo total 53.219\n",
            "\n",
            "Tempo inicial para o corte: 6000\n",
            "Tempo Final para o corte: 11000\n",
            "Corte no intervalo 6000:11000\n",
            "Tempo total 53.219\n",
            "\n",
            "Tempo inicial para o corte: 11000\n",
            "Tempo Final para o corte: 17000\n",
            "Corte no intervalo 11000:17000\n",
            "Tempo total 53.219\n",
            "\n",
            "Tempo inicial para o corte: 17000\n",
            "Tempo Final para o corte: 23000\n",
            "Corte no intervalo 17000:23000\n",
            "Tempo total 53.219\n",
            "\n",
            "Tempo inicial para o corte: 23000\n",
            "Tempo Final para o corte: 27500\n",
            "Corte no intervalo 23000:27500\n",
            "Tempo total 53.219\n",
            "\n",
            "Tempo inicial para o corte: 27500\n",
            "Tempo Final para o corte: 33000\n",
            "Corte no intervalo 27500:33000\n",
            "Tempo total 53.219\n",
            "\n",
            "Tempo inicial para o corte: 33000\n",
            "Tempo Final para o corte: 40000\n",
            "Corte no intervalo 33000:40000\n",
            "Tempo total 53.219\n",
            "\n",
            "Tempo inicial para o corte: 40000\n",
            "Tempo Final para o corte: 47000\n",
            "Corte no intervalo 40000:47000\n",
            "Tempo total 53.219\n",
            "\n",
            "Tempo inicial para o corte: 47000\n",
            "Tempo Final para o corte: 53219\n",
            "Corte no intervalo 47000:53219\n",
            "Tempo total 53.219\n",
            "\n",
            "Tempo inicial para o corte: 53219\n",
            "Tempo Final para o corte: 53300\n",
            "Corte no intervalo 53219:53300\n",
            "Tempo total 53.219\n",
            "\n"
          ]
        }
      ]
    },
    {
      "cell_type": "code",
      "source": [],
      "metadata": {
        "id": "8y2_sO6t15Rf"
      },
      "execution_count": null,
      "outputs": []
    }
  ]
}